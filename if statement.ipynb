{
 "cells": [
  {
   "cell_type": "code",
   "execution_count": 4,
   "id": "c0342120",
   "metadata": {},
   "outputs": [
    {
     "name": "stdout",
     "output_type": "stream",
     "text": [
      "Enter the number:3\n",
      "Enter the number:7\n",
      "7 is smaller than  3\n"
     ]
    }
   ],
   "source": [
    "#find maximum aur minimum\n",
    "x=int(input(\"Enter the number:\"))\n",
    "y=int(input(\"Enter the number:\"))\n",
    "if x>y:\n",
    "    print(x,\"is Greater than \",y)\n",
    "else:\n",
    "    print(y,\"is smaller than \",x)\n",
    "    "
   ]
  },
  {
   "cell_type": "code",
   "execution_count": 16,
   "id": "d90c882a",
   "metadata": {},
   "outputs": [
    {
     "name": "stdout",
     "output_type": "stream",
     "text": [
      "Enter the number:-1\n",
      "Invalid\n"
     ]
    }
   ],
   "source": [
    "#Roman Numberal Converter\n",
    "x=int(input(\"Enter the number:\"))\n",
    "i=0\n",
    "if x==1:\n",
    "    print(\"i\")\n",
    "if x==2:\n",
    "    print(\"ii\")\n",
    "if x==3:\n",
    "    print(\"iii\")\n",
    "if x==4:\n",
    "    print(\"iv\")\n",
    "if x==5:\n",
    "    print(\"v\")\n",
    "if x==6:\n",
    "    print(\"vi\")\n",
    "if x==7:\n",
    "    print(\"vii\")\n",
    "if x==8:\n",
    "    print(\"viii\")\n",
    "if x==9:\n",
    "    print(\"ix\")\n",
    "if x==10:\n",
    "    print(\"x\")\n",
    "else:\n",
    "    print(\"Invalid\")\n",
    "    "
   ]
  },
  {
   "cell_type": "code",
   "execution_count": 19,
   "id": "8dca8749",
   "metadata": {
    "scrolled": true
   },
   "outputs": [
    {
     "name": "stdout",
     "output_type": "stream",
     "text": [
      "Enter the Month 6\n",
      "Enter the day 10\n",
      "Enter the year 60\n",
      "date is Magic\n"
     ]
    }
   ],
   "source": [
    "#Magic Dates\n",
    "x=  int(input(\"Enter the Month \"))\n",
    "y= int(input(\"Enter the day \"))\n",
    "z= int(input(\"Enter the year \"))\n",
    "if x*y ==z:\n",
    "    print(\"date is Magic\")\n",
    "else:\n",
    "    print(\"date is not Magic\")"
   ]
  },
  {
   "cell_type": "code",
   "execution_count": 28,
   "id": "7858ac9c",
   "metadata": {},
   "outputs": [
    {
     "name": "stdout",
     "output_type": "stream",
     "text": [
      "Enter the first lenght: 2\n",
      "Enter the first width: 2\n",
      "Enter the second lenght: 2\n",
      "Enter the second width: 2\n",
      "first rectangler is equal to second rectangler\n"
     ]
    }
   ],
   "source": [
    "#Area of Rectangles\n",
    "l1 = int(input(\"Enter the first lenght: \"))\n",
    "w1 = int(input(\"Enter the first width: \"))\n",
    "l2 = int(input(\"Enter the second lenght: \"))\n",
    "w2 = int(input(\"Enter the second width: \"))\n",
    "firstrectangle = l1*w1\n",
    "secondrectangle = l2*w2\n",
    "if firstrectangle>secondrectangle:\n",
    "    print(\"first rectangle is greater than second rectangle\")\n",
    "elif firstrectangle<secondrectangle:\n",
    "        print(\"first rectangle is smaller than second rectangle\")\n",
    "elif firstrectangle == secondrectangle:\n",
    "        print(\"first rectangler is equal to second rectangler\")\n",
    "    "
   ]
  },
  {
   "cell_type": "code",
   "execution_count": 30,
   "id": "0fa5cbd0",
   "metadata": {},
   "outputs": [
    {
     "name": "stdout",
     "output_type": "stream",
     "text": [
      "Enter the number of book purchased: 1\n",
      "5\n"
     ]
    }
   ],
   "source": [
    "#Book club Point\n",
    "x = int(input(\"Enter the number of book purchased: \"))\n",
    "if x==0:\n",
    "    print(0)\n",
    "elif x==1:\n",
    "    print(5)\n",
    "elif x==2:\n",
    "    print(15)\n",
    "elif x==3:\n",
    "    print(30)\n",
    "elif x>4:\n",
    "    print(60)\n",
    "\n",
    "    \n",
    "    "
   ]
  },
  {
   "cell_type": "code",
   "execution_count": null,
   "id": "b1e732ae",
   "metadata": {},
   "outputs": [],
   "source": []
  }
 ],
 "metadata": {
  "kernelspec": {
   "display_name": "Python 3 (ipykernel)",
   "language": "python",
   "name": "python3"
  },
  "language_info": {
   "codemirror_mode": {
    "name": "ipython",
    "version": 3
   },
   "file_extension": ".py",
   "mimetype": "text/x-python",
   "name": "python",
   "nbconvert_exporter": "python",
   "pygments_lexer": "ipython3",
   "version": "3.9.7"
  }
 },
 "nbformat": 4,
 "nbformat_minor": 5
}
